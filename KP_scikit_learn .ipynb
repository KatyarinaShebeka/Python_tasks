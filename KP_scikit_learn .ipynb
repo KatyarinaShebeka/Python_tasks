{
 "cells": [
  {
   "cell_type": "markdown",
   "id": "dc4dacea",
   "metadata": {},
   "source": [
    "# Подготовка данных"
   ]
  },
  {
   "cell_type": "markdown",
   "id": "494ee494",
   "metadata": {},
   "source": [
    "### Подключение библиотек и скриптов"
   ]
  },
  {
   "cell_type": "code",
   "execution_count": 1,
   "id": "70b13666",
   "metadata": {},
   "outputs": [],
   "source": [
    "# Основные библиотеки \n",
    "import numpy as np\n",
    "import pandas as pd\n",
    "import matplotlib.pyplot as plt\n",
    "%matplotlib inline\n",
    "\n",
    "# Контроль предупреждений\n",
    "import warnings\n",
    "warnings.filterwarnings('ignore')\n",
    "\n",
    "# Разделение датасета\n",
    "from sklearn.model_selection import train_test_split\n",
    "\n",
    "# Модели\n",
    "from sklearn.linear_model import LinearRegression\n",
    "from sklearn.linear_model import LogisticRegression\n",
    "from sklearn.ensemble import RandomForestRegressor\n",
    "from sklearn.preprocessing import StandardScaler\n",
    "\n",
    "# Метрики качества\n",
    "from sklearn.metrics import r2_score as r2\n",
    "from sklearn.metrics import confusion_matrix\n",
    "from sklearn.metrics import mean_squared_error\n",
    "\n",
    "# Cохранение модели\n",
    "import pickle   "
   ]
  },
  {
   "cell_type": "markdown",
   "id": "7b9ccf4a",
   "metadata": {},
   "source": [
    "### Пути к директориям и файлам"
   ]
  },
  {
   "cell_type": "code",
   "execution_count": 2,
   "id": "0b8dbdae",
   "metadata": {},
   "outputs": [],
   "source": [
    "train_dataset = '/Users/Katya/Downloads/Курсовой проект/train.csv'\n",
    "test_dataset = '/Users/Katya/Downloads/Курсовой проект/test.csv'\n",
    "result_dataset = '/Users/Katya/Downloads/Курсовой проект/result.csv'"
   ]
  },
  {
   "cell_type": "markdown",
   "id": "b8e6d15c",
   "metadata": {},
   "source": [
    "### Загрузка данных"
   ]
  },
  {
   "cell_type": "markdown",
   "id": "0a0f5a61",
   "metadata": {},
   "source": [
    "**Описание датасета**\n",
    "\n",
    "* **Id** - идентификационный номер квартиры\n",
    "* **DistrictId** - идентификационный номер района\n",
    "* **Rooms** - количество комнат\n",
    "* **Square** - площадь\n",
    "* **LifeSquare** - жилая площадь\n",
    "* **KitchenSquare** - площадь кухни\n",
    "* **Floor** - этаж\n",
    "* **HouseFloor** - количество этажей в доме\n",
    "* **HouseYear** - год постройки дома\n",
    "* **Ecology_1, Ecology_2, Ecology_3** - экологические показатели местности\n",
    "* **Social_1, Social_2, Social_3** - социальные показатели местности\n",
    "* **Healthcare_1, Helthcare_2** - показатели местности, связанные с охраной здоровья\n",
    "* **Shops_1, Shops_2** - показатели, связанные с наличием магазинов, торговых центров\n",
    "* **Price** - цена квартиры"
   ]
  },
  {
   "cell_type": "code",
   "execution_count": 3,
   "id": "0e40759c",
   "metadata": {},
   "outputs": [],
   "source": [
    "# Создание датафреймов\n",
    "train = pd.read_csv(train_dataset)\n",
    "test = pd.read_csv(test_dataset)"
   ]
  },
  {
   "cell_type": "code",
   "execution_count": 4,
   "id": "7a78d5bd",
   "metadata": {},
   "outputs": [],
   "source": [
    "# Уменьшение объема памяти, который занимает датасет\n",
    "def reduce_memory_usage(df):\n",
    "    \"\"\" iterate through all the columns of a dataframe and modify the data type\n",
    "        to reduce memory usage.        \n",
    "    \"\"\"\n",
    "    start_mem = df.memory_usage().sum() / 1024**2\n",
    "    print('Memory usage of dataframe is {:.2f} MB'.format(start_mem))\n",
    "    \n",
    "    for col in df.columns:\n",
    "        col_type = df[col].dtype\n",
    "        \n",
    "        if col_type != object:\n",
    "            c_min = df[col].min()\n",
    "            c_max = df[col].max()\n",
    "            if str(col_type)[:3] == 'int':\n",
    "                if c_min > np.iinfo(np.int8).min and c_max < np.iinfo(np.int8).max:\n",
    "                    df[col] = df[col].astype(np.int8)\n",
    "                elif c_min > np.iinfo(np.int16).min and c_max < np.iinfo(np.int16).max:\n",
    "                    df[col] = df[col].astype(np.int16)\n",
    "                elif c_min > np.iinfo(np.int32).min and c_max < np.iinfo(np.int32).max:\n",
    "                    df[col] = df[col].astype(np.int32)\n",
    "                elif c_min > np.iinfo(np.int64).min and c_max < np.iinfo(np.int64).max:\n",
    "                    df[col] = df[col].astype(np.int64)  \n",
    "            else:\n",
    "                if c_min > np.finfo(np.float32).min and c_max < np.finfo(np.float32).max:\n",
    "                    df[col] = df[col].astype(np.float32)\n",
    "                else:\n",
    "                    df[col] = df[col].astype(np.float64)\n",
    "        else:\n",
    "            df[col] = df[col].astype('category')\n",
    "\n",
    "    end_mem = df.memory_usage().sum() / 1024**2\n",
    "    print('Memory usage after optimization is: {:.2f} MB'.format(end_mem))\n",
    "    print('Decreased by {:.1f}%'.format(100 * (start_mem - end_mem) / start_mem))\n",
    "    \n",
    "    return df"
   ]
  },
  {
   "cell_type": "code",
   "execution_count": 5,
   "id": "8499f218",
   "metadata": {},
   "outputs": [
    {
     "name": "stdout",
     "output_type": "stream",
     "text": [
      "Memory usage of dataframe is 1.53 MB\n",
      "Memory usage after optimization is: 0.49 MB\n",
      "Decreased by 68.1%\n",
      "Memory usage of dataframe is 0.72 MB\n",
      "Memory usage after optimization is: 0.22 MB\n",
      "Decreased by 70.3%\n"
     ]
    }
   ],
   "source": [
    "train = reduce_memory_usage(train)\n",
    "test = reduce_memory_usage(test)"
   ]
  },
  {
   "cell_type": "code",
   "execution_count": 6,
   "id": "24500a50",
   "metadata": {},
   "outputs": [
    {
     "data": {
      "text/plain": [
       "True"
      ]
     },
     "execution_count": 6,
     "metadata": {},
     "output_type": "execute_result"
    }
   ],
   "source": [
    "# Проверка размеров тренировочной и тестовых частей\n",
    "train.shape[1]-1 == test.shape[1]"
   ]
  },
  {
   "cell_type": "markdown",
   "id": "a971951e",
   "metadata": {},
   "source": [
    "### Приведение типов"
   ]
  },
  {
   "cell_type": "code",
   "execution_count": 7,
   "id": "87f0da8a",
   "metadata": {
    "scrolled": true
   },
   "outputs": [
    {
     "data": {
      "text/plain": [
       "Id                  int16\n",
       "DistrictId          int16\n",
       "Rooms             float32\n",
       "Square            float32\n",
       "LifeSquare        float32\n",
       "KitchenSquare     float32\n",
       "Floor                int8\n",
       "HouseFloor        float32\n",
       "HouseYear           int32\n",
       "Ecology_1         float32\n",
       "Ecology_2        category\n",
       "Ecology_3        category\n",
       "Social_1             int8\n",
       "Social_2            int16\n",
       "Social_3            int16\n",
       "Healthcare_1      float32\n",
       "Helthcare_2          int8\n",
       "Shops_1              int8\n",
       "Shops_2          category\n",
       "Price             float32\n",
       "dtype: object"
      ]
     },
     "execution_count": 7,
     "metadata": {},
     "output_type": "execute_result"
    }
   ],
   "source": [
    "train.dtypes"
   ]
  },
  {
   "cell_type": "code",
   "execution_count": 8,
   "id": "5522284b",
   "metadata": {},
   "outputs": [],
   "source": [
    "train['Id'] = train['Id'].astype(str)\n",
    "train['DistrictId'] = train['DistrictId'].astype(str)"
   ]
  },
  {
   "cell_type": "markdown",
   "id": "634c7dc5",
   "metadata": {},
   "source": [
    "### Обзор данных"
   ]
  },
  {
   "cell_type": "markdown",
   "id": "f39d31ff",
   "metadata": {},
   "source": [
    "**Целевая переменная**"
   ]
  },
  {
   "cell_type": "code",
   "execution_count": 9,
   "id": "2cb55d07",
   "metadata": {},
   "outputs": [
    {
     "data": {
      "image/png": "[encoded data removed]",
      "text/plain": [
       "<Figure size 1152x576 with 1 Axes>"
      ]
     },
     "metadata": {
      "needs_background": "light"
     },
     "output_type": "display_data"
    }
   ],
   "source": [
    "plt.figure(figsize = (16, 8))\n",
    "\n",
    "train['Price'].hist(color=\"pink\")\n",
    "plt.ylabel('Count', fontsize=20)\n",
    "plt.xlabel('Price', fontsize=20)\n",
    "\n",
    "plt.title('Target distribution', fontsize=30)\n",
    "plt.show()"
   ]
  },
  {
   "cell_type": "markdown",
   "id": "f4f1091f",
   "metadata": {},
   "source": [
    "**Количественные переменные**"
   ]
  },
  {
   "cell_type": "code",
   "execution_count": 10,
   "id": "c61bb6c9",
   "metadata": {},
   "outputs": [
    {
     "data": {
      "text/html": [
       "<div>\n",
       "<style scoped>\n",
       "    .dataframe tbody tr th:only-of-type {\n",
       "        vertical-align: middle;\n",
       "    }\n",
       "\n",
       "    .dataframe tbody tr th {\n",
       "        vertical-align: top;\n",
       "    }\n",
       "\n",
       "    .dataframe thead th {\n",
       "        text-align: right;\n",
       "    }\n",
       "</style>\n",
       "<table border=\"1\" class=\"dataframe\">\n",
       "  <thead>\n",
       "    <tr style=\"text-align: right;\">\n",
       "      <th></th>\n",
       "      <th>Rooms</th>\n",
       "      <th>Square</th>\n",
       "      <th>LifeSquare</th>\n",
       "      <th>KitchenSquare</th>\n",
       "      <th>Floor</th>\n",
       "      <th>HouseFloor</th>\n",
       "      <th>HouseYear</th>\n",
       "      <th>Ecology_1</th>\n",
       "      <th>Social_1</th>\n",
       "      <th>Social_2</th>\n",
       "      <th>Social_3</th>\n",
       "      <th>Healthcare_1</th>\n",
       "      <th>Helthcare_2</th>\n",
       "      <th>Shops_1</th>\n",
       "      <th>Price</th>\n",
       "    </tr>\n",
       "  </thead>\n",
       "  <tbody>\n",
       "    <tr>\n",
       "      <th>count</th>\n",
       "      <td>10000.000000</td>\n",
       "      <td>10000.000000</td>\n",
       "      <td>7887.000000</td>\n",
       "      <td>10000.000000</td>\n",
       "      <td>10000.000000</td>\n",
       "      <td>10000.0000</td>\n",
       "      <td>1.000000e+04</td>\n",
       "      <td>10000.000000</td>\n",
       "      <td>10000.000000</td>\n",
       "      <td>10000.000000</td>\n",
       "      <td>10000.000000</td>\n",
       "      <td>5202.000000</td>\n",
       "      <td>10000.000000</td>\n",
       "      <td>10000.000000</td>\n",
       "      <td>10000.000000</td>\n",
       "    </tr>\n",
       "    <tr>\n",
       "      <th>mean</th>\n",
       "      <td>1.890500</td>\n",
       "      <td>56.315720</td>\n",
       "      <td>37.199665</td>\n",
       "      <td>6.273300</td>\n",
       "      <td>8.526700</td>\n",
       "      <td>12.6094</td>\n",
       "      <td>3.990166e+03</td>\n",
       "      <td>0.118858</td>\n",
       "      <td>24.687000</td>\n",
       "      <td>5352.157400</td>\n",
       "      <td>8.039200</td>\n",
       "      <td>1142.904419</td>\n",
       "      <td>1.319500</td>\n",
       "      <td>4.231300</td>\n",
       "      <td>214138.937500</td>\n",
       "    </tr>\n",
       "    <tr>\n",
       "      <th>std</th>\n",
       "      <td>0.839522</td>\n",
       "      <td>21.058716</td>\n",
       "      <td>86.241219</td>\n",
       "      <td>28.560839</td>\n",
       "      <td>5.241148</td>\n",
       "      <td>6.7762</td>\n",
       "      <td>2.005003e+05</td>\n",
       "      <td>0.119025</td>\n",
       "      <td>17.532614</td>\n",
       "      <td>4006.799803</td>\n",
       "      <td>23.831875</td>\n",
       "      <td>1021.519470</td>\n",
       "      <td>1.493601</td>\n",
       "      <td>4.806341</td>\n",
       "      <td>92872.273438</td>\n",
       "    </tr>\n",
       "    <tr>\n",
       "      <th>min</th>\n",
       "      <td>0.000000</td>\n",
       "      <td>1.136859</td>\n",
       "      <td>0.370619</td>\n",
       "      <td>0.000000</td>\n",
       "      <td>1.000000</td>\n",
       "      <td>0.0000</td>\n",
       "      <td>1.910000e+03</td>\n",
       "      <td>0.000000</td>\n",
       "      <td>0.000000</td>\n",
       "      <td>168.000000</td>\n",
       "      <td>0.000000</td>\n",
       "      <td>0.000000</td>\n",
       "      <td>0.000000</td>\n",
       "      <td>0.000000</td>\n",
       "      <td>59174.777344</td>\n",
       "    </tr>\n",
       "    <tr>\n",
       "      <th>25%</th>\n",
       "      <td>1.000000</td>\n",
       "      <td>41.774879</td>\n",
       "      <td>22.769833</td>\n",
       "      <td>1.000000</td>\n",
       "      <td>4.000000</td>\n",
       "      <td>9.0000</td>\n",
       "      <td>1.974000e+03</td>\n",
       "      <td>0.017647</td>\n",
       "      <td>6.000000</td>\n",
       "      <td>1564.000000</td>\n",
       "      <td>0.000000</td>\n",
       "      <td>350.000000</td>\n",
       "      <td>0.000000</td>\n",
       "      <td>1.000000</td>\n",
       "      <td>153872.628906</td>\n",
       "    </tr>\n",
       "    <tr>\n",
       "      <th>50%</th>\n",
       "      <td>2.000000</td>\n",
       "      <td>52.513309</td>\n",
       "      <td>32.781261</td>\n",
       "      <td>6.000000</td>\n",
       "      <td>7.000000</td>\n",
       "      <td>13.0000</td>\n",
       "      <td>1.977000e+03</td>\n",
       "      <td>0.075424</td>\n",
       "      <td>25.000000</td>\n",
       "      <td>5285.000000</td>\n",
       "      <td>2.000000</td>\n",
       "      <td>900.000000</td>\n",
       "      <td>1.000000</td>\n",
       "      <td>3.000000</td>\n",
       "      <td>192269.648438</td>\n",
       "    </tr>\n",
       "    <tr>\n",
       "      <th>75%</th>\n",
       "      <td>2.000000</td>\n",
       "      <td>65.900627</td>\n",
       "      <td>45.128803</td>\n",
       "      <td>9.000000</td>\n",
       "      <td>12.000000</td>\n",
       "      <td>17.0000</td>\n",
       "      <td>2.001000e+03</td>\n",
       "      <td>0.195781</td>\n",
       "      <td>36.000000</td>\n",
       "      <td>7227.000000</td>\n",
       "      <td>5.000000</td>\n",
       "      <td>1548.000000</td>\n",
       "      <td>2.000000</td>\n",
       "      <td>6.000000</td>\n",
       "      <td>249135.460938</td>\n",
       "    </tr>\n",
       "    <tr>\n",
       "      <th>max</th>\n",
       "      <td>19.000000</td>\n",
       "      <td>641.065186</td>\n",
       "      <td>7480.592285</td>\n",
       "      <td>2014.000000</td>\n",
       "      <td>42.000000</td>\n",
       "      <td>117.0000</td>\n",
       "      <td>2.005201e+07</td>\n",
       "      <td>0.521867</td>\n",
       "      <td>74.000000</td>\n",
       "      <td>19083.000000</td>\n",
       "      <td>141.000000</td>\n",
       "      <td>4849.000000</td>\n",
       "      <td>6.000000</td>\n",
       "      <td>23.000000</td>\n",
       "      <td>633233.437500</td>\n",
       "    </tr>\n",
       "  </tbody>\n",
       "</table>\n",
       "</div>"
      ],
      "text/plain": [
       "              Rooms        Square   LifeSquare  KitchenSquare         Floor  \\\n",
       "count  10000.000000  10000.000000  7887.000000   10000.000000  10000.000000   \n",
       "mean       1.890500     56.315720    37.199665       6.273300      8.526700   \n",
       "std        0.839522     21.058716    86.241219      28.560839      5.241148   \n",
       "min        0.000000      1.136859     0.370619       0.000000      1.000000   \n",
       "25%        1.000000     41.774879    22.769833       1.000000      4.000000   \n",
       "50%        2.000000     52.513309    32.781261       6.000000      7.000000   \n",
       "75%        2.000000     65.900627    45.128803       9.000000     12.000000   \n",
       "max       19.000000    641.065186  7480.592285    2014.000000     42.000000   \n",
       "\n",
       "       HouseFloor     HouseYear     Ecology_1      Social_1      Social_2  \\\n",
       "count  10000.0000  1.000000e+04  10000.000000  10000.000000  10000.000000   \n",
       "mean      12.6094  3.990166e+03      0.118858     24.687000   5352.157400   \n",
       "std        6.7762  2.005003e+05      0.119025     17.532614   4006.799803   \n",
       "min        0.0000  1.910000e+03      0.000000      0.000000    168.000000   \n",
       "25%        9.0000  1.974000e+03      0.017647      6.000000   1564.000000   \n",
       "50%       13.0000  1.977000e+03      0.075424     25.000000   5285.000000   \n",
       "75%       17.0000  2.001000e+03      0.195781     36.000000   7227.000000   \n",
       "max      117.0000  2.005201e+07      0.521867     74.000000  19083.000000   \n",
       "\n",
       "           Social_3  Healthcare_1   Helthcare_2       Shops_1          Price  \n",
       "count  10000.000000   5202.000000  10000.000000  10000.000000   10000.000000  \n",
       "mean       8.039200   1142.904419      1.319500      4.231300  214138.937500  \n",
       "std       23.831875   1021.519470      1.493601      4.806341   92872.273438  \n",
       "min        0.000000      0.000000      0.000000      0.000000   59174.777344  \n",
       "25%        0.000000    350.000000      0.000000      1.000000  153872.628906  \n",
       "50%        2.000000    900.000000      1.000000      3.000000  192269.648438  \n",
       "75%        5.000000   1548.000000      2.000000      6.000000  249135.460938  \n",
       "max      141.000000   4849.000000      6.000000     23.000000  633233.437500  "
      ]
     },
     "execution_count": 10,
     "metadata": {},
     "output_type": "execute_result"
    }
   ],
   "source": [
    "train.describe()"
   ]
  },
  {
   "cell_type": "code",
   "execution_count": 11,
   "id": "cf9895ab",
   "metadata": {},
   "outputs": [
    {
     "data": {
      "image/png": "[encoded data removed]",
      "text/plain": [
       "<Figure size 1152x1152 with 16 Axes>"
      ]
     },
     "metadata": {
      "needs_background": "light"
     },
     "output_type": "display_data"
    }
   ],
   "source": [
    "train_num_features = train.select_dtypes(include=['int8', 'int32', 'int16', 'float32'])\n",
    "train_num_features.hist(figsize=(16,16), bins=20, grid=False, color=\"pink\");"
   ]
  },
  {
   "cell_type": "markdown",
   "id": "642f4911",
   "metadata": {},
   "source": [
    "**Номинативные переменные**"
   ]
  },
  {
   "cell_type": "code",
   "execution_count": 12,
   "id": "e37ea8b2",
   "metadata": {},
   "outputs": [
    {
     "data": {
      "text/plain": [
       "['Id', 'DistrictId']"
      ]
     },
     "execution_count": 12,
     "metadata": {},
     "output_type": "execute_result"
    }
   ],
   "source": [
    "train.select_dtypes(include='object').columns.tolist()"
   ]
  },
  {
   "cell_type": "code",
   "execution_count": 13,
   "id": "75a09e44",
   "metadata": {},
   "outputs": [
    {
     "data": {
      "text/plain": [
       "27     851\n",
       "1      652\n",
       "23     565\n",
       "6      511\n",
       "9      294\n",
       "      ... \n",
       "199      1\n",
       "117      1\n",
       "207      1\n",
       "209      1\n",
       "174      1\n",
       "Name: DistrictId, Length: 205, dtype: int64"
      ]
     },
     "execution_count": 13,
     "metadata": {},
     "output_type": "execute_result"
    }
   ],
   "source": [
    "train['DistrictId'].value_counts()"
   ]
  },
  {
   "cell_type": "markdown",
   "id": "91c04ee1",
   "metadata": {},
   "source": [
    "### Обработка пропусков"
   ]
  },
  {
   "cell_type": "code",
   "execution_count": 14,
   "id": "95a383b4",
   "metadata": {},
   "outputs": [
    {
     "data": {
      "text/html": [
       "<div>\n",
       "<style scoped>\n",
       "    .dataframe tbody tr th:only-of-type {\n",
       "        vertical-align: middle;\n",
       "    }\n",
       "\n",
       "    .dataframe tbody tr th {\n",
       "        vertical-align: top;\n",
       "    }\n",
       "\n",
       "    .dataframe thead th {\n",
       "        text-align: right;\n",
       "    }\n",
       "</style>\n",
       "<table border=\"1\" class=\"dataframe\">\n",
       "  <thead>\n",
       "    <tr style=\"text-align: right;\">\n",
       "      <th></th>\n",
       "      <th>Id</th>\n",
       "      <th>DistrictId</th>\n",
       "      <th>Rooms</th>\n",
       "      <th>Square</th>\n",
       "      <th>LifeSquare</th>\n",
       "      <th>KitchenSquare</th>\n",
       "      <th>Floor</th>\n",
       "      <th>HouseFloor</th>\n",
       "      <th>HouseYear</th>\n",
       "      <th>Ecology_1</th>\n",
       "      <th>Ecology_2</th>\n",
       "      <th>Ecology_3</th>\n",
       "      <th>Social_1</th>\n",
       "      <th>Social_2</th>\n",
       "      <th>Social_3</th>\n",
       "      <th>Healthcare_1</th>\n",
       "      <th>Helthcare_2</th>\n",
       "      <th>Shops_1</th>\n",
       "      <th>Shops_2</th>\n",
       "      <th>Price</th>\n",
       "    </tr>\n",
       "  </thead>\n",
       "  <tbody>\n",
       "    <tr>\n",
       "      <th>0</th>\n",
       "      <td>False</td>\n",
       "      <td>False</td>\n",
       "      <td>False</td>\n",
       "      <td>False</td>\n",
       "      <td>True</td>\n",
       "      <td>False</td>\n",
       "      <td>False</td>\n",
       "      <td>False</td>\n",
       "      <td>False</td>\n",
       "      <td>False</td>\n",
       "      <td>False</td>\n",
       "      <td>False</td>\n",
       "      <td>False</td>\n",
       "      <td>False</td>\n",
       "      <td>False</td>\n",
       "      <td>True</td>\n",
       "      <td>False</td>\n",
       "      <td>False</td>\n",
       "      <td>False</td>\n",
       "      <td>False</td>\n",
       "    </tr>\n",
       "    <tr>\n",
       "      <th>1</th>\n",
       "      <td>False</td>\n",
       "      <td>False</td>\n",
       "      <td>False</td>\n",
       "      <td>False</td>\n",
       "      <td>False</td>\n",
       "      <td>False</td>\n",
       "      <td>False</td>\n",
       "      <td>False</td>\n",
       "      <td>False</td>\n",
       "      <td>False</td>\n",
       "      <td>False</td>\n",
       "      <td>False</td>\n",
       "      <td>False</td>\n",
       "      <td>False</td>\n",
       "      <td>False</td>\n",
       "      <td>False</td>\n",
       "      <td>False</td>\n",
       "      <td>False</td>\n",
       "      <td>False</td>\n",
       "      <td>False</td>\n",
       "    </tr>\n",
       "    <tr>\n",
       "      <th>2</th>\n",
       "      <td>False</td>\n",
       "      <td>False</td>\n",
       "      <td>False</td>\n",
       "      <td>False</td>\n",
       "      <td>False</td>\n",
       "      <td>False</td>\n",
       "      <td>False</td>\n",
       "      <td>False</td>\n",
       "      <td>False</td>\n",
       "      <td>False</td>\n",
       "      <td>False</td>\n",
       "      <td>False</td>\n",
       "      <td>False</td>\n",
       "      <td>False</td>\n",
       "      <td>False</td>\n",
       "      <td>False</td>\n",
       "      <td>False</td>\n",
       "      <td>False</td>\n",
       "      <td>False</td>\n",
       "      <td>False</td>\n",
       "    </tr>\n",
       "    <tr>\n",
       "      <th>3</th>\n",
       "      <td>False</td>\n",
       "      <td>False</td>\n",
       "      <td>False</td>\n",
       "      <td>False</td>\n",
       "      <td>True</td>\n",
       "      <td>False</td>\n",
       "      <td>False</td>\n",
       "      <td>False</td>\n",
       "      <td>False</td>\n",
       "      <td>False</td>\n",
       "      <td>False</td>\n",
       "      <td>False</td>\n",
       "      <td>False</td>\n",
       "      <td>False</td>\n",
       "      <td>False</td>\n",
       "      <td>True</td>\n",
       "      <td>False</td>\n",
       "      <td>False</td>\n",
       "      <td>False</td>\n",
       "      <td>False</td>\n",
       "    </tr>\n",
       "    <tr>\n",
       "      <th>4</th>\n",
       "      <td>False</td>\n",
       "      <td>False</td>\n",
       "      <td>False</td>\n",
       "      <td>False</td>\n",
       "      <td>False</td>\n",
       "      <td>False</td>\n",
       "      <td>False</td>\n",
       "      <td>False</td>\n",
       "      <td>False</td>\n",
       "      <td>False</td>\n",
       "      <td>False</td>\n",
       "      <td>False</td>\n",
       "      <td>False</td>\n",
       "      <td>False</td>\n",
       "      <td>False</td>\n",
       "      <td>True</td>\n",
       "      <td>False</td>\n",
       "      <td>False</td>\n",
       "      <td>False</td>\n",
       "      <td>False</td>\n",
       "    </tr>\n",
       "    <tr>\n",
       "      <th>...</th>\n",
       "      <td>...</td>\n",
       "      <td>...</td>\n",
       "      <td>...</td>\n",
       "      <td>...</td>\n",
       "      <td>...</td>\n",
       "      <td>...</td>\n",
       "      <td>...</td>\n",
       "      <td>...</td>\n",
       "      <td>...</td>\n",
       "      <td>...</td>\n",
       "      <td>...</td>\n",
       "      <td>...</td>\n",
       "      <td>...</td>\n",
       "      <td>...</td>\n",
       "      <td>...</td>\n",
       "      <td>...</td>\n",
       "      <td>...</td>\n",
       "      <td>...</td>\n",
       "      <td>...</td>\n",
       "      <td>...</td>\n",
       "    </tr>\n",
       "    <tr>\n",
       "      <th>9995</th>\n",
       "      <td>False</td>\n",
       "      <td>False</td>\n",
       "      <td>False</td>\n",
       "      <td>False</td>\n",
       "      <td>False</td>\n",
       "      <td>False</td>\n",
       "      <td>False</td>\n",
       "      <td>False</td>\n",
       "      <td>False</td>\n",
       "      <td>False</td>\n",
       "      <td>False</td>\n",
       "      <td>False</td>\n",
       "      <td>False</td>\n",
       "      <td>False</td>\n",
       "      <td>False</td>\n",
       "      <td>True</td>\n",
       "      <td>False</td>\n",
       "      <td>False</td>\n",
       "      <td>False</td>\n",
       "      <td>False</td>\n",
       "    </tr>\n",
       "    <tr>\n",
       "      <th>9996</th>\n",
       "      <td>False</td>\n",
       "      <td>False</td>\n",
       "      <td>False</td>\n",
       "      <td>False</td>\n",
       "      <td>False</td>\n",
       "      <td>False</td>\n",
       "      <td>False</td>\n",
       "      <td>False</td>\n",
       "      <td>False</td>\n",
       "      <td>False</td>\n",
       "      <td>False</td>\n",
       "      <td>False</td>\n",
       "      <td>False</td>\n",
       "      <td>False</td>\n",
       "      <td>False</td>\n",
       "      <td>True</td>\n",
       "      <td>False</td>\n",
       "      <td>False</td>\n",
       "      <td>False</td>\n",
       "      <td>False</td>\n",
       "    </tr>\n",
       "    <tr>\n",
       "      <th>9997</th>\n",
       "      <td>False</td>\n",
       "      <td>False</td>\n",
       "      <td>False</td>\n",
       "      <td>False</td>\n",
       "      <td>False</td>\n",
       "      <td>False</td>\n",
       "      <td>False</td>\n",
       "      <td>False</td>\n",
       "      <td>False</td>\n",
       "      <td>False</td>\n",
       "      <td>False</td>\n",
       "      <td>False</td>\n",
       "      <td>False</td>\n",
       "      <td>False</td>\n",
       "      <td>False</td>\n",
       "      <td>True</td>\n",
       "      <td>False</td>\n",
       "      <td>False</td>\n",
       "      <td>False</td>\n",
       "      <td>False</td>\n",
       "    </tr>\n",
       "    <tr>\n",
       "      <th>9998</th>\n",
       "      <td>False</td>\n",
       "      <td>False</td>\n",
       "      <td>False</td>\n",
       "      <td>False</td>\n",
       "      <td>False</td>\n",
       "      <td>False</td>\n",
       "      <td>False</td>\n",
       "      <td>False</td>\n",
       "      <td>False</td>\n",
       "      <td>False</td>\n",
       "      <td>False</td>\n",
       "      <td>False</td>\n",
       "      <td>False</td>\n",
       "      <td>False</td>\n",
       "      <td>False</td>\n",
       "      <td>False</td>\n",
       "      <td>False</td>\n",
       "      <td>False</td>\n",
       "      <td>False</td>\n",
       "      <td>False</td>\n",
       "    </tr>\n",
       "    <tr>\n",
       "      <th>9999</th>\n",
       "      <td>False</td>\n",
       "      <td>False</td>\n",
       "      <td>False</td>\n",
       "      <td>False</td>\n",
       "      <td>False</td>\n",
       "      <td>False</td>\n",
       "      <td>False</td>\n",
       "      <td>False</td>\n",
       "      <td>False</td>\n",
       "      <td>False</td>\n",
       "      <td>False</td>\n",
       "      <td>False</td>\n",
       "      <td>False</td>\n",
       "      <td>False</td>\n",
       "      <td>False</td>\n",
       "      <td>True</td>\n",
       "      <td>False</td>\n",
       "      <td>False</td>\n",
       "      <td>False</td>\n",
       "      <td>False</td>\n",
       "    </tr>\n",
       "  </tbody>\n",
       "</table>\n",
       "<p>10000 rows × 20 columns</p>\n",
       "</div>"
      ],
      "text/plain": [
       "         Id  DistrictId  Rooms  Square  LifeSquare  KitchenSquare  Floor  \\\n",
       "0     False       False  False   False        True          False  False   \n",
       "1     False       False  False   False       False          False  False   \n",
       "2     False       False  False   False       False          False  False   \n",
       "3     False       False  False   False        True          False  False   \n",
       "4     False       False  False   False       False          False  False   \n",
       "...     ...         ...    ...     ...         ...            ...    ...   \n",
       "9995  False       False  False   False       False          False  False   \n",
       "9996  False       False  False   False       False          False  False   \n",
       "9997  False       False  False   False       False          False  False   \n",
       "9998  False       False  False   False       False          False  False   \n",
       "9999  False       False  False   False       False          False  False   \n",
       "\n",
       "      HouseFloor  HouseYear  Ecology_1  Ecology_2  Ecology_3  Social_1  \\\n",
       "0          False      False      False      False      False     False   \n",
       "1          False      False      False      False      False     False   \n",
       "2          False      False      False      False      False     False   \n",
       "3          False      False      False      False      False     False   \n",
       "4          False      False      False      False      False     False   \n",
       "...          ...        ...        ...        ...        ...       ...   \n",
       "9995       False      False      False      False      False     False   \n",
       "9996       False      False      False      False      False     False   \n",
       "9997       False      False      False      False      False     False   \n",
       "9998       False      False      False      False      False     False   \n",
       "9999       False      False      False      False      False     False   \n",
       "\n",
       "      Social_2  Social_3  Healthcare_1  Helthcare_2  Shops_1  Shops_2  Price  \n",
       "0        False     False          True        False    False    False  False  \n",
       "1        False     False         False        False    False    False  False  \n",
       "2        False     False         False        False    False    False  False  \n",
       "3        False     False          True        False    False    False  False  \n",
       "4        False     False          True        False    False    False  False  \n",
       "...        ...       ...           ...          ...      ...      ...    ...  \n",
       "9995     False     False          True        False    False    False  False  \n",
       "9996     False     False          True        False    False    False  False  \n",
       "9997     False     False          True        False    False    False  False  \n",
       "9998     False     False         False        False    False    False  False  \n",
       "9999     False     False          True        False    False    False  False  \n",
       "\n",
       "[10000 rows x 20 columns]"
      ]
     },
     "execution_count": 14,
     "metadata": {},
     "output_type": "execute_result"
    }
   ],
   "source": [
    "train.isna()"
   ]
  },
  {
   "cell_type": "code",
   "execution_count": 15,
   "id": "819aa1d0",
   "metadata": {},
   "outputs": [
    {
     "data": {
      "text/plain": [
       "Id                  0\n",
       "DistrictId          0\n",
       "Rooms               0\n",
       "Square              0\n",
       "LifeSquare       2113\n",
       "KitchenSquare       0\n",
       "Floor               0\n",
       "HouseFloor          0\n",
       "HouseYear           0\n",
       "Ecology_1           0\n",
       "Ecology_2           0\n",
       "Ecology_3           0\n",
       "Social_1            0\n",
       "Social_2            0\n",
       "Social_3            0\n",
       "Healthcare_1     4798\n",
       "Helthcare_2         0\n",
       "Shops_1             0\n",
       "Shops_2             0\n",
       "Price               0\n",
       "dtype: int64"
      ]
     },
     "execution_count": 15,
     "metadata": {},
     "output_type": "execute_result"
    }
   ],
   "source": [
    "# Проверяем количество пропусков в каждой колонке\n",
    "train.isna().sum()"
   ]
  },
  {
   "cell_type": "code",
   "execution_count": 16,
   "id": "05af6fb3",
   "metadata": {},
   "outputs": [
    {
     "data": {
      "text/plain": [
       "LifeSquare       32.781261\n",
       "Healthcare_1    900.000000\n",
       "dtype: float32"
      ]
     },
     "execution_count": 16,
     "metadata": {},
     "output_type": "execute_result"
    }
   ],
   "source": [
    "## Заменяем пропуски в колонках 'LifeSquare' и 'Healthcare_1' на медиан\n",
    "medians = train[['LifeSquare', 'Healthcare_1']].median()\n",
    "medians"
   ]
  },
  {
   "cell_type": "code",
   "execution_count": 17,
   "id": "5ffa45f8",
   "metadata": {},
   "outputs": [],
   "source": [
    "train[['LifeSquare', 'Healthcare_1']] = \\\n",
    "        train[['LifeSquare', 'Healthcare_1']].fillna(medians)"
   ]
  },
  {
   "cell_type": "code",
   "execution_count": 18,
   "id": "c053b5c9",
   "metadata": {},
   "outputs": [
    {
     "data": {
      "text/plain": [
       "Id               0\n",
       "DistrictId       0\n",
       "Rooms            0\n",
       "Square           0\n",
       "LifeSquare       0\n",
       "KitchenSquare    0\n",
       "Floor            0\n",
       "HouseFloor       0\n",
       "HouseYear        0\n",
       "Ecology_1        0\n",
       "Ecology_2        0\n",
       "Ecology_3        0\n",
       "Social_1         0\n",
       "Social_2         0\n",
       "Social_3         0\n",
       "Healthcare_1     0\n",
       "Helthcare_2      0\n",
       "Shops_1          0\n",
       "Shops_2          0\n",
       "Price            0\n",
       "dtype: int64"
      ]
     },
     "execution_count": 18,
     "metadata": {},
     "output_type": "execute_result"
    }
   ],
   "source": [
    "train.isna().sum()"
   ]
  },
  {
   "cell_type": "markdown",
   "id": "3a321c96",
   "metadata": {},
   "source": [
    "### Обработка выбросов"
   ]
  },
  {
   "cell_type": "markdown",
   "id": "07d7422e",
   "metadata": {},
   "source": [
    "**Rooms**"
   ]
  },
  {
   "cell_type": "code",
   "execution_count": 19,
   "id": "68aa9bca",
   "metadata": {},
   "outputs": [
    {
     "data": {
      "text/plain": [
       "2.0     3880\n",
       "1.0     3705\n",
       "3.0     2235\n",
       "4.0      150\n",
       "5.0       18\n",
       "0.0        8\n",
       "10.0       2\n",
       "19.0       1\n",
       "6.0        1\n",
       "Name: Rooms, dtype: int64"
      ]
     },
     "execution_count": 19,
     "metadata": {},
     "output_type": "execute_result"
    }
   ],
   "source": [
    "train['Rooms'].value_counts()"
   ]
  },
  {
   "cell_type": "code",
   "execution_count": 20,
   "id": "8a9ab2ec",
   "metadata": {},
   "outputs": [
    {
     "data": {
      "text/plain": [
       "2.0    3883\n",
       "1.0    3713\n",
       "3.0    2235\n",
       "4.0     150\n",
       "5.0      18\n",
       "6.0       1\n",
       "Name: Rooms, dtype: int64"
      ]
     },
     "execution_count": 20,
     "metadata": {},
     "output_type": "execute_result"
    }
   ],
   "source": [
    "# Заменяем количество 0 на медиан\n",
    "train.loc[(train['Rooms'] == 0), 'Rooms'] = 1\n",
    "train.loc[train['Rooms'] > 6, 'Rooms'] = train['Rooms'].median()\n",
    "train['Rooms'].value_counts()"
   ]
  },
  {
   "cell_type": "markdown",
   "id": "9b12b222",
   "metadata": {},
   "source": [
    "**Square, LifeSquare, KitchenSquare**"
   ]
  },
  {
   "cell_type": "code",
   "execution_count": 21,
   "id": "513bb208",
   "metadata": {},
   "outputs": [],
   "source": [
    "# Приближаем размеры квартир к более реалистичным показателям\n",
    "train.loc[(train.Square<1.5), 'Square']= train['Square']*100\n",
    "train.loc[(train.Square<=13), 'Square']= train['Square']*10\n",
    "train.loc[(train.Square>300), 'Square']= train['Square']/10\n",
    "\n",
    "train.loc[(train.LifeSquare<1.5), 'LifeSquare']= train['LifeSquare']*100\n",
    "train.loc[(train.LifeSquare<=13), 'LifeSquare']= train['LifeSquare']*10\n",
    "train.loc[(train.LifeSquare>300), 'LifeSquare']= train['LifeSquare']/10\n",
    "\n",
    "train.loc[(train.KitchenSquare<1.5), 'KitchenSquare']= train['KitchenSquare']*100\n",
    "train.loc[(train.KitchenSquare<=13), 'KitchenSquare']= train['KitchenSquare']*10\n",
    "train.loc[(train.KitchenSquare>300), 'KitchenSquare']= train['KitchenSquare']/10"
   ]
  },
  {
   "cell_type": "code",
   "execution_count": 22,
   "id": "dfb41483",
   "metadata": {},
   "outputs": [],
   "source": [
    "# Удваиваем общую площадь квартир на 30%, если сумма 'LifeSquare' + 'KitchenSquare' больше 'Square'\n",
    "train.loc[(train.Square < (train.LifeSquare + train.KitchenSquare)), 'Square']= train['Square']*1.3"
   ]
  },
  {
   "cell_type": "code",
   "execution_count": 23,
   "id": "e3193ca5",
   "metadata": {},
   "outputs": [
    {
     "data": {
      "text/html": [
       "<div>\n",
       "<style scoped>\n",
       "    .dataframe tbody tr th:only-of-type {\n",
       "        vertical-align: middle;\n",
       "    }\n",
       "\n",
       "    .dataframe tbody tr th {\n",
       "        vertical-align: top;\n",
       "    }\n",
       "\n",
       "    .dataframe thead th {\n",
       "        text-align: right;\n",
       "    }\n",
       "</style>\n",
       "<table border=\"1\" class=\"dataframe\">\n",
       "  <thead>\n",
       "    <tr style=\"text-align: right;\">\n",
       "      <th></th>\n",
       "      <th>Id</th>\n",
       "      <th>DistrictId</th>\n",
       "      <th>Rooms</th>\n",
       "      <th>Square</th>\n",
       "      <th>LifeSquare</th>\n",
       "      <th>KitchenSquare</th>\n",
       "      <th>Floor</th>\n",
       "      <th>HouseFloor</th>\n",
       "      <th>HouseYear</th>\n",
       "      <th>Ecology_1</th>\n",
       "      <th>Ecology_2</th>\n",
       "      <th>Ecology_3</th>\n",
       "      <th>Social_1</th>\n",
       "      <th>Social_2</th>\n",
       "      <th>Social_3</th>\n",
       "      <th>Healthcare_1</th>\n",
       "      <th>Helthcare_2</th>\n",
       "      <th>Shops_1</th>\n",
       "      <th>Shops_2</th>\n",
       "      <th>Price</th>\n",
       "    </tr>\n",
       "  </thead>\n",
       "  <tbody>\n",
       "    <tr>\n",
       "      <th>0</th>\n",
       "      <td>11809</td>\n",
       "      <td>27</td>\n",
       "      <td>3.0</td>\n",
       "      <td>149.535507</td>\n",
       "      <td>32.781261</td>\n",
       "      <td>100.0</td>\n",
       "      <td>4</td>\n",
       "      <td>10.0</td>\n",
       "      <td>2014</td>\n",
       "      <td>0.075424</td>\n",
       "      <td>B</td>\n",
       "      <td>B</td>\n",
       "      <td>11</td>\n",
       "      <td>3097</td>\n",
       "      <td>0</td>\n",
       "      <td>900.0</td>\n",
       "      <td>0</td>\n",
       "      <td>0</td>\n",
       "      <td>B</td>\n",
       "      <td>305018.875000</td>\n",
       "    </tr>\n",
       "    <tr>\n",
       "      <th>1</th>\n",
       "      <td>3013</td>\n",
       "      <td>22</td>\n",
       "      <td>1.0</td>\n",
       "      <td>51.782280</td>\n",
       "      <td>23.169222</td>\n",
       "      <td>80.0</td>\n",
       "      <td>7</td>\n",
       "      <td>8.0</td>\n",
       "      <td>1966</td>\n",
       "      <td>0.118537</td>\n",
       "      <td>B</td>\n",
       "      <td>B</td>\n",
       "      <td>30</td>\n",
       "      <td>6207</td>\n",
       "      <td>1</td>\n",
       "      <td>1183.0</td>\n",
       "      <td>1</td>\n",
       "      <td>0</td>\n",
       "      <td>B</td>\n",
       "      <td>177734.546875</td>\n",
       "    </tr>\n",
       "    <tr>\n",
       "      <th>2</th>\n",
       "      <td>8215</td>\n",
       "      <td>1</td>\n",
       "      <td>3.0</td>\n",
       "      <td>101.844879</td>\n",
       "      <td>47.671970</td>\n",
       "      <td>100.0</td>\n",
       "      <td>2</td>\n",
       "      <td>17.0</td>\n",
       "      <td>1988</td>\n",
       "      <td>0.025609</td>\n",
       "      <td>B</td>\n",
       "      <td>B</td>\n",
       "      <td>33</td>\n",
       "      <td>5261</td>\n",
       "      <td>0</td>\n",
       "      <td>240.0</td>\n",
       "      <td>3</td>\n",
       "      <td>1</td>\n",
       "      <td>B</td>\n",
       "      <td>282078.718750</td>\n",
       "    </tr>\n",
       "    <tr>\n",
       "      <th>3</th>\n",
       "      <td>2352</td>\n",
       "      <td>1</td>\n",
       "      <td>1.0</td>\n",
       "      <td>52.532879</td>\n",
       "      <td>32.781261</td>\n",
       "      <td>100.0</td>\n",
       "      <td>10</td>\n",
       "      <td>22.0</td>\n",
       "      <td>1977</td>\n",
       "      <td>0.007122</td>\n",
       "      <td>B</td>\n",
       "      <td>B</td>\n",
       "      <td>1</td>\n",
       "      <td>264</td>\n",
       "      <td>0</td>\n",
       "      <td>900.0</td>\n",
       "      <td>0</td>\n",
       "      <td>1</td>\n",
       "      <td>B</td>\n",
       "      <td>168106.000000</td>\n",
       "    </tr>\n",
       "    <tr>\n",
       "      <th>4</th>\n",
       "      <td>13866</td>\n",
       "      <td>94</td>\n",
       "      <td>2.0</td>\n",
       "      <td>83.570580</td>\n",
       "      <td>38.562515</td>\n",
       "      <td>90.0</td>\n",
       "      <td>16</td>\n",
       "      <td>16.0</td>\n",
       "      <td>1972</td>\n",
       "      <td>0.282798</td>\n",
       "      <td>B</td>\n",
       "      <td>B</td>\n",
       "      <td>33</td>\n",
       "      <td>8667</td>\n",
       "      <td>2</td>\n",
       "      <td>900.0</td>\n",
       "      <td>0</td>\n",
       "      <td>6</td>\n",
       "      <td>B</td>\n",
       "      <td>343995.093750</td>\n",
       "    </tr>\n",
       "  </tbody>\n",
       "</table>\n",
       "</div>"
      ],
      "text/plain": [
       "      Id DistrictId  Rooms      Square  LifeSquare  KitchenSquare  Floor  \\\n",
       "0  11809         27    3.0  149.535507   32.781261          100.0      4   \n",
       "1   3013         22    1.0   51.782280   23.169222           80.0      7   \n",
       "2   8215          1    3.0  101.844879   47.671970          100.0      2   \n",
       "3   2352          1    1.0   52.532879   32.781261          100.0     10   \n",
       "4  13866         94    2.0   83.570580   38.562515           90.0     16   \n",
       "\n",
       "   HouseFloor  HouseYear  Ecology_1 Ecology_2 Ecology_3  Social_1  Social_2  \\\n",
       "0        10.0       2014   0.075424         B         B        11      3097   \n",
       "1         8.0       1966   0.118537         B         B        30      6207   \n",
       "2        17.0       1988   0.025609         B         B        33      5261   \n",
       "3        22.0       1977   0.007122         B         B         1       264   \n",
       "4        16.0       1972   0.282798         B         B        33      8667   \n",
       "\n",
       "   Social_3  Healthcare_1  Helthcare_2  Shops_1 Shops_2          Price  \n",
       "0         0         900.0            0        0       B  305018.875000  \n",
       "1         1        1183.0            1        0       B  177734.546875  \n",
       "2         0         240.0            3        1       B  282078.718750  \n",
       "3         0         900.0            0        1       B  168106.000000  \n",
       "4         2         900.0            0        6       B  343995.093750  "
      ]
     },
     "execution_count": 23,
     "metadata": {},
     "output_type": "execute_result"
    }
   ],
   "source": [
    "train.head()"
   ]
  },
  {
   "cell_type": "markdown",
   "id": "e1c133ae",
   "metadata": {},
   "source": [
    "**HouseFloor, Floor**"
   ]
  },
  {
   "cell_type": "code",
   "execution_count": 24,
   "id": "8af9676b",
   "metadata": {},
   "outputs": [
    {
     "data": {
      "text/plain": [
       "array([  0.,   1.,   2.,   3.,   4.,   5.,   6.,   7.,   8.,   9.,  10.,\n",
       "        11.,  12.,  13.,  14.,  15.,  16.,  17.,  18.,  19.,  20.,  21.,\n",
       "        22.,  23.,  24.,  25.,  26.,  27.,  28.,  29.,  30.,  31.,  32.,\n",
       "        36.,  37.,  38.,  39.,  40.,  44.,  45.,  47.,  48.,  99., 117.],\n",
       "      dtype=float32)"
      ]
     },
     "execution_count": 24,
     "metadata": {},
     "output_type": "execute_result"
    }
   ],
   "source": [
    "train['HouseFloor'].sort_values().unique()"
   ]
  },
  {
   "cell_type": "code",
   "execution_count": 25,
   "id": "d9843271",
   "metadata": {},
   "outputs": [],
   "source": [
    "# Заменяем этаж \"0\" на медиану \n",
    "train.loc[train['HouseFloor'].isin([0]), 'HouseFloor'] = train['HouseFloor'].median()"
   ]
  },
  {
   "cell_type": "code",
   "execution_count": 26,
   "id": "299836b8",
   "metadata": {},
   "outputs": [
    {
     "data": {
      "text/plain": [
       "array([ 1,  2,  3,  4,  5,  6,  7,  8,  9, 10, 11, 12, 13, 14, 15, 16, 17,\n",
       "       18, 19, 20, 21, 22, 23, 24, 25, 26, 27, 28, 31, 32, 33, 37, 42],\n",
       "      dtype=int8)"
      ]
     },
     "execution_count": 26,
     "metadata": {},
     "output_type": "execute_result"
    }
   ],
   "source": [
    "train['Floor'].sort_values().unique()"
   ]
  },
  {
   "cell_type": "markdown",
   "id": "f00f5f2a",
   "metadata": {},
   "source": [
    "**HouseYear**"
   ]
  },
  {
   "cell_type": "code",
   "execution_count": 27,
   "id": "6e5bcf9f",
   "metadata": {},
   "outputs": [
    {
     "data": {
      "text/plain": [
       "9163    20052011\n",
       "8828        4968\n",
       "7721        2020\n",
       "9122        2020\n",
       "7955        2020\n",
       "          ...   \n",
       "7610        1916\n",
       "6250        1914\n",
       "2066        1912\n",
       "2795        1912\n",
       "6794        1910\n",
       "Name: HouseYear, Length: 10000, dtype: int32"
      ]
     },
     "execution_count": 27,
     "metadata": {},
     "output_type": "execute_result"
    }
   ],
   "source": [
    "# Исправляем ошибочные даты постройки дома\n",
    "train['HouseYear'].sort_values(ascending=False)"
   ]
  },
  {
   "cell_type": "code",
   "execution_count": 28,
   "id": "3d6d2cc0",
   "metadata": {},
   "outputs": [],
   "source": [
    "train.loc[train['HouseYear'] > 2021, 'HouseYear'] = 2020"
   ]
  },
  {
   "cell_type": "markdown",
   "id": "c1f9a6e2",
   "metadata": {},
   "source": [
    "### Отбор и построение новых признаков<a class='anchor' id='feature'>\n"
   ]
  },
  {
   "cell_type": "code",
   "execution_count": 29,
   "id": "e27b780b",
   "metadata": {},
   "outputs": [],
   "source": [
    "# \"Id\" для сохранения файла\n",
    "test_idx = test['Id']"
   ]
  },
  {
   "cell_type": "markdown",
   "id": "051414bc",
   "metadata": {},
   "source": [
    "**Dummies**"
   ]
  },
  {
   "cell_type": "code",
   "execution_count": 30,
   "id": "1cfedac1",
   "metadata": {},
   "outputs": [],
   "source": [
    "binary_to_numbers = {'A': 0, 'B': 1}\n",
    "\n",
    "train['Ecology_2'] = train['Ecology_2'].replace(binary_to_numbers)\n",
    "train['Ecology_3'] = train['Ecology_3'].replace(binary_to_numbers)\n",
    "train['Shops_2'] = train['Shops_2'].replace(binary_to_numbers)"
   ]
  },
  {
   "cell_type": "markdown",
   "id": "fed47d2d",
   "metadata": {},
   "source": [
    "**MedPriceByDistrict**"
   ]
  },
  {
   "cell_type": "code",
   "execution_count": 31,
   "id": "e91c9577",
   "metadata": {},
   "outputs": [
    {
     "data": {
      "text/html": [
       "<div>\n",
       "<style scoped>\n",
       "    .dataframe tbody tr th:only-of-type {\n",
       "        vertical-align: middle;\n",
       "    }\n",
       "\n",
       "    .dataframe tbody tr th {\n",
       "        vertical-align: top;\n",
       "    }\n",
       "\n",
       "    .dataframe thead th {\n",
       "        text-align: right;\n",
       "    }\n",
       "</style>\n",
       "<table border=\"1\" class=\"dataframe\">\n",
       "  <thead>\n",
       "    <tr style=\"text-align: right;\">\n",
       "      <th></th>\n",
       "      <th>DistrictId</th>\n",
       "      <th>Rooms</th>\n",
       "      <th>MedPriceByDistrict</th>\n",
       "    </tr>\n",
       "  </thead>\n",
       "  <tbody>\n",
       "    <tr>\n",
       "      <th>0</th>\n",
       "      <td>0</td>\n",
       "      <td>1.0</td>\n",
       "      <td>142799.437500</td>\n",
       "    </tr>\n",
       "    <tr>\n",
       "      <th>1</th>\n",
       "      <td>0</td>\n",
       "      <td>2.0</td>\n",
       "      <td>176210.812500</td>\n",
       "    </tr>\n",
       "    <tr>\n",
       "      <th>2</th>\n",
       "      <td>0</td>\n",
       "      <td>3.0</td>\n",
       "      <td>300610.375000</td>\n",
       "    </tr>\n",
       "    <tr>\n",
       "      <th>3</th>\n",
       "      <td>1</td>\n",
       "      <td>1.0</td>\n",
       "      <td>146735.671875</td>\n",
       "    </tr>\n",
       "    <tr>\n",
       "      <th>4</th>\n",
       "      <td>1</td>\n",
       "      <td>2.0</td>\n",
       "      <td>202666.312500</td>\n",
       "    </tr>\n",
       "  </tbody>\n",
       "</table>\n",
       "</div>"
      ],
      "text/plain": [
       "  DistrictId  Rooms  MedPriceByDistrict\n",
       "0          0    1.0       142799.437500\n",
       "1          0    2.0       176210.812500\n",
       "2          0    3.0       300610.375000\n",
       "3          1    1.0       146735.671875\n",
       "4          1    2.0       202666.312500"
      ]
     },
     "execution_count": 31,
     "metadata": {},
     "output_type": "execute_result"
    }
   ],
   "source": [
    "# Добавляем признак цена за метр квадратный\n",
    "med_price_by_district = train.groupby(['DistrictId', 'Rooms'], as_index=False).agg({'Price':'median'})\\\n",
    "                            .rename(columns={'Price':'MedPriceByDistrict'})\n",
    "\n",
    "med_price_by_district.head()"
   ]
  },
  {
   "cell_type": "code",
   "execution_count": 32,
   "id": "5fbb4db1",
   "metadata": {},
   "outputs": [
    {
     "data": {
      "text/html": [
       "<div>\n",
       "<style scoped>\n",
       "    .dataframe tbody tr th:only-of-type {\n",
       "        vertical-align: middle;\n",
       "    }\n",
       "\n",
       "    .dataframe tbody tr th {\n",
       "        vertical-align: top;\n",
       "    }\n",
       "\n",
       "    .dataframe thead th {\n",
       "        text-align: right;\n",
       "    }\n",
       "</style>\n",
       "<table border=\"1\" class=\"dataframe\">\n",
       "  <thead>\n",
       "    <tr style=\"text-align: right;\">\n",
       "      <th></th>\n",
       "      <th>Id</th>\n",
       "      <th>DistrictId</th>\n",
       "      <th>Rooms</th>\n",
       "      <th>Square</th>\n",
       "      <th>LifeSquare</th>\n",
       "      <th>KitchenSquare</th>\n",
       "      <th>Floor</th>\n",
       "      <th>HouseFloor</th>\n",
       "      <th>HouseYear</th>\n",
       "      <th>Ecology_1</th>\n",
       "      <th>...</th>\n",
       "      <th>Ecology_3</th>\n",
       "      <th>Social_1</th>\n",
       "      <th>Social_2</th>\n",
       "      <th>Social_3</th>\n",
       "      <th>Healthcare_1</th>\n",
       "      <th>Helthcare_2</th>\n",
       "      <th>Shops_1</th>\n",
       "      <th>Shops_2</th>\n",
       "      <th>Price</th>\n",
       "      <th>MedPriceByDistrict</th>\n",
       "    </tr>\n",
       "  </thead>\n",
       "  <tbody>\n",
       "    <tr>\n",
       "      <th>0</th>\n",
       "      <td>11809</td>\n",
       "      <td>27</td>\n",
       "      <td>3.0</td>\n",
       "      <td>149.535507</td>\n",
       "      <td>32.781261</td>\n",
       "      <td>100.0</td>\n",
       "      <td>4</td>\n",
       "      <td>10.0</td>\n",
       "      <td>2014</td>\n",
       "      <td>0.075424</td>\n",
       "      <td>...</td>\n",
       "      <td>1</td>\n",
       "      <td>11</td>\n",
       "      <td>3097</td>\n",
       "      <td>0</td>\n",
       "      <td>900.0</td>\n",
       "      <td>0</td>\n",
       "      <td>0</td>\n",
       "      <td>1</td>\n",
       "      <td>305018.875000</td>\n",
       "      <td>213530.781250</td>\n",
       "    </tr>\n",
       "    <tr>\n",
       "      <th>1</th>\n",
       "      <td>3013</td>\n",
       "      <td>22</td>\n",
       "      <td>1.0</td>\n",
       "      <td>51.782280</td>\n",
       "      <td>23.169222</td>\n",
       "      <td>80.0</td>\n",
       "      <td>7</td>\n",
       "      <td>8.0</td>\n",
       "      <td>1966</td>\n",
       "      <td>0.118537</td>\n",
       "      <td>...</td>\n",
       "      <td>1</td>\n",
       "      <td>30</td>\n",
       "      <td>6207</td>\n",
       "      <td>1</td>\n",
       "      <td>1183.0</td>\n",
       "      <td>1</td>\n",
       "      <td>0</td>\n",
       "      <td>1</td>\n",
       "      <td>177734.546875</td>\n",
       "      <td>146032.828125</td>\n",
       "    </tr>\n",
       "    <tr>\n",
       "      <th>2</th>\n",
       "      <td>8215</td>\n",
       "      <td>1</td>\n",
       "      <td>3.0</td>\n",
       "      <td>101.844879</td>\n",
       "      <td>47.671970</td>\n",
       "      <td>100.0</td>\n",
       "      <td>2</td>\n",
       "      <td>17.0</td>\n",
       "      <td>1988</td>\n",
       "      <td>0.025609</td>\n",
       "      <td>...</td>\n",
       "      <td>1</td>\n",
       "      <td>33</td>\n",
       "      <td>5261</td>\n",
       "      <td>0</td>\n",
       "      <td>240.0</td>\n",
       "      <td>3</td>\n",
       "      <td>1</td>\n",
       "      <td>1</td>\n",
       "      <td>282078.718750</td>\n",
       "      <td>244005.281250</td>\n",
       "    </tr>\n",
       "    <tr>\n",
       "      <th>3</th>\n",
       "      <td>2352</td>\n",
       "      <td>1</td>\n",
       "      <td>1.0</td>\n",
       "      <td>52.532879</td>\n",
       "      <td>32.781261</td>\n",
       "      <td>100.0</td>\n",
       "      <td>10</td>\n",
       "      <td>22.0</td>\n",
       "      <td>1977</td>\n",
       "      <td>0.007122</td>\n",
       "      <td>...</td>\n",
       "      <td>1</td>\n",
       "      <td>1</td>\n",
       "      <td>264</td>\n",
       "      <td>0</td>\n",
       "      <td>900.0</td>\n",
       "      <td>0</td>\n",
       "      <td>1</td>\n",
       "      <td>1</td>\n",
       "      <td>168106.000000</td>\n",
       "      <td>146735.671875</td>\n",
       "    </tr>\n",
       "    <tr>\n",
       "      <th>4</th>\n",
       "      <td>13866</td>\n",
       "      <td>94</td>\n",
       "      <td>2.0</td>\n",
       "      <td>83.570580</td>\n",
       "      <td>38.562515</td>\n",
       "      <td>90.0</td>\n",
       "      <td>16</td>\n",
       "      <td>16.0</td>\n",
       "      <td>1972</td>\n",
       "      <td>0.282798</td>\n",
       "      <td>...</td>\n",
       "      <td>1</td>\n",
       "      <td>33</td>\n",
       "      <td>8667</td>\n",
       "      <td>2</td>\n",
       "      <td>900.0</td>\n",
       "      <td>0</td>\n",
       "      <td>6</td>\n",
       "      <td>1</td>\n",
       "      <td>343995.093750</td>\n",
       "      <td>201584.437500</td>\n",
       "    </tr>\n",
       "  </tbody>\n",
       "</table>\n",
       "<p>5 rows × 21 columns</p>\n",
       "</div>"
      ],
      "text/plain": [
       "      Id DistrictId  Rooms      Square  LifeSquare  KitchenSquare  Floor  \\\n",
       "0  11809         27    3.0  149.535507   32.781261          100.0      4   \n",
       "1   3013         22    1.0   51.782280   23.169222           80.0      7   \n",
       "2   8215          1    3.0  101.844879   47.671970          100.0      2   \n",
       "3   2352          1    1.0   52.532879   32.781261          100.0     10   \n",
       "4  13866         94    2.0   83.570580   38.562515           90.0     16   \n",
       "\n",
       "   HouseFloor  HouseYear  Ecology_1  ...  Ecology_3  Social_1  Social_2  \\\n",
       "0        10.0       2014   0.075424  ...          1        11      3097   \n",
       "1         8.0       1966   0.118537  ...          1        30      6207   \n",
       "2        17.0       1988   0.025609  ...          1        33      5261   \n",
       "3        22.0       1977   0.007122  ...          1         1       264   \n",
       "4        16.0       1972   0.282798  ...          1        33      8667   \n",
       "\n",
       "   Social_3  Healthcare_1  Helthcare_2  Shops_1  Shops_2          Price  \\\n",
       "0         0         900.0            0        0        1  305018.875000   \n",
       "1         1        1183.0            1        0        1  177734.546875   \n",
       "2         0         240.0            3        1        1  282078.718750   \n",
       "3         0         900.0            0        1        1  168106.000000   \n",
       "4         2         900.0            0        6        1  343995.093750   \n",
       "\n",
       "   MedPriceByDistrict  \n",
       "0       213530.781250  \n",
       "1       146032.828125  \n",
       "2       244005.281250  \n",
       "3       146735.671875  \n",
       "4       201584.437500  \n",
       "\n",
       "[5 rows x 21 columns]"
      ]
     },
     "execution_count": 32,
     "metadata": {},
     "output_type": "execute_result"
    }
   ],
   "source": [
    "train = train.merge(med_price_by_district, on=['DistrictId', 'Rooms'], how='left')\n",
    "train.head()"
   ]
  },
  {
   "cell_type": "markdown",
   "id": "f908d5e0",
   "metadata": {},
   "source": [
    "### Подготовка данных"
   ]
  },
  {
   "cell_type": "code",
   "execution_count": 33,
   "id": "91242228",
   "metadata": {},
   "outputs": [],
   "source": [
    "class DataPipeline():\n",
    "    \n",
    "    def __init__(self):\n",
    "        self.binary_to_numbers = None\n",
    "        self.med_price_by_district = None\n",
    "        \n",
    "    def fit(self, X, Y=None):\n",
    "        X = X.copy()\n",
    "        \n",
    "        self.binary_to_numbers = {'A': 0, 'B': 1}\n",
    "        \n",
    "        df = X.copy()\n",
    "        \n",
    "        if Y is not None:\n",
    "            df['Price'] = Y.values\n",
    "            \n",
    "            self.med_price_by_district = df.groupby(['DistrictId', 'Rooms'], as_index=False).agg({'Price':'median'})\\\n",
    "                                            .rename(columns={'Price':'MedPriceByDistrict'})\n",
    "            \n",
    "            self.med_price_by_district_median = self.med_price_by_district['MedPriceByDistrict'].median()\n",
    "        \n",
    "    def transform(self, X):\n",
    "        X['Ecology_2'] = X['Ecology_2'].map(self.binary_to_numbers) \n",
    "        X['Ecology_3'] = X['Ecology_3'].map(self.binary_to_numbers)\n",
    "        X['Shops_2'] = X['Shops_2'].map(self.binary_to_numbers)\n",
    "        \n",
    "        if self.med_price_by_district is not None:\n",
    "            X = X.merge(self.med_price_by_district, on=['DistrictId', 'Rooms'], how='left')\n",
    "            X.fillna(self.med_price_by_district_median, inplace=True)\n",
    "            \n",
    "        return X\n",
    "        "
   ]
  },
  {
   "cell_type": "markdown",
   "id": "2334fc69",
   "metadata": {},
   "source": [
    "### Отбор признаков"
   ]
  },
  {
   "cell_type": "code",
   "execution_count": 34,
   "id": "2bde7976",
   "metadata": {},
   "outputs": [
    {
     "data": {
      "text/plain": [
       "['Id',\n",
       " 'DistrictId',\n",
       " 'Rooms',\n",
       " 'Square',\n",
       " 'LifeSquare',\n",
       " 'KitchenSquare',\n",
       " 'Floor',\n",
       " 'HouseFloor',\n",
       " 'HouseYear',\n",
       " 'Ecology_1',\n",
       " 'Ecology_2',\n",
       " 'Ecology_3',\n",
       " 'Social_1',\n",
       " 'Social_2',\n",
       " 'Social_3',\n",
       " 'Healthcare_1',\n",
       " 'Helthcare_2',\n",
       " 'Shops_1',\n",
       " 'Shops_2',\n",
       " 'Price',\n",
       " 'MedPriceByDistrict']"
      ]
     },
     "execution_count": 34,
     "metadata": {},
     "output_type": "execute_result"
    }
   ],
   "source": [
    "train.columns.tolist()"
   ]
  },
  {
   "cell_type": "code",
   "execution_count": 35,
   "id": "69b00a87",
   "metadata": {},
   "outputs": [],
   "source": [
    "feature_names = ['Rooms', 'Square', 'LifeSquare', 'KitchenSquare', 'Floor', 'HouseFloor', 'HouseYear',\n",
    "                 'Ecology_1', 'Ecology_2', 'Ecology_2', 'Social_1', 'Social_2', 'Social_3',\n",
    "                 'Healthcare_1', 'Shops_1', 'Shops_2']\n",
    "\n",
    "new_feature_names = ['MedPriceByDistrict']\n",
    "\n",
    "target = 'Price'"
   ]
  },
  {
   "cell_type": "markdown",
   "id": "6df7e3ad",
   "metadata": {},
   "source": [
    "### Подготавливаем тестовые данные\n"
   ]
  },
  {
   "cell_type": "code",
   "execution_count": 36,
   "id": "c4e145f4",
   "metadata": {},
   "outputs": [],
   "source": [
    "test['Id'] = test['Id'].astype(str)\n",
    "test['DistrictId'] = test['DistrictId'].astype(str)"
   ]
  },
  {
   "cell_type": "code",
   "execution_count": 37,
   "id": "34c87489",
   "metadata": {},
   "outputs": [
    {
     "data": {
      "text/plain": [
       "LifeSquare       32.925087\n",
       "Healthcare_1    900.000000\n",
       "dtype: float32"
      ]
     },
     "execution_count": 37,
     "metadata": {},
     "output_type": "execute_result"
    }
   ],
   "source": [
    "medians = test[['LifeSquare', 'Healthcare_1']].median()\n",
    "medians"
   ]
  },
  {
   "cell_type": "code",
   "execution_count": 38,
   "id": "5d6fb692",
   "metadata": {},
   "outputs": [],
   "source": [
    "test[['LifeSquare', 'Healthcare_1']] = \\\n",
    "        test[['LifeSquare', 'Healthcare_1']].fillna(medians)"
   ]
  },
  {
   "cell_type": "code",
   "execution_count": 39,
   "id": "f334afc5",
   "metadata": {},
   "outputs": [
    {
     "data": {
      "text/plain": [
       "2.0    2031\n",
       "1.0    1771\n",
       "3.0    1099\n",
       "4.0      90\n",
       "5.0       7\n",
       "6.0       2\n",
       "Name: Rooms, dtype: int64"
      ]
     },
     "execution_count": 39,
     "metadata": {},
     "output_type": "execute_result"
    }
   ],
   "source": [
    "test.loc[(test['Rooms'] == 0), 'Rooms'] = 1\n",
    "test.loc[test['Rooms'] > 6, 'Rooms'] = test['Rooms'].median()\n",
    "test['Rooms'].value_counts()"
   ]
  },
  {
   "cell_type": "code",
   "execution_count": 40,
   "id": "12b7e76e",
   "metadata": {},
   "outputs": [],
   "source": [
    "test.loc[(test.Square<1.5), 'Square']= test['Square']*100\n",
    "test.loc[(test.Square<=13), 'Square']= test['Square']*10\n",
    "test.loc[(test.Square>300), 'Square']= test['Square']/10\n",
    "\n",
    "test.loc[(test.LifeSquare<1.5), 'LifeSquare']= test['LifeSquare']*100\n",
    "test.loc[(test.LifeSquare<=13), 'LifeSquare']= test['LifeSquare']*10\n",
    "test.loc[(test.LifeSquare>300), 'LifeSquare']= test['LifeSquare']/10\n",
    "\n",
    "test.loc[(test.KitchenSquare<1.5), 'KitchenSquare']= test['KitchenSquare']*100\n",
    "test.loc[(test.KitchenSquare<=13), 'KitchenSquare']= test['KitchenSquare']*10\n",
    "test.loc[(test.KitchenSquare>300), 'KitchenSquare']= test['KitchenSquare']/10"
   ]
  },
  {
   "cell_type": "code",
   "execution_count": 41,
   "id": "93d13340",
   "metadata": {},
   "outputs": [],
   "source": [
    "test.loc[(test.Square < (test.LifeSquare + test.KitchenSquare)), 'Square']= test['Square']*1.3"
   ]
  },
  {
   "cell_type": "code",
   "execution_count": 42,
   "id": "e6c06efb",
   "metadata": {},
   "outputs": [],
   "source": [
    "test.loc[test['HouseYear'] > 2021, 'HouseYear'] = 2020"
   ]
  },
  {
   "cell_type": "code",
   "execution_count": 43,
   "id": "62b968ec",
   "metadata": {},
   "outputs": [],
   "source": [
    "test.loc[test['HouseFloor'].isin([0]), 'HouseFloor'] = test['HouseFloor'].median()"
   ]
  },
  {
   "cell_type": "code",
   "execution_count": 44,
   "id": "1f42c14b",
   "metadata": {},
   "outputs": [],
   "source": [
    "binary_to_numbers = {'A': 0, 'B': 1}\n",
    "\n",
    "test['Ecology_2'] = test['Ecology_2'].replace(binary_to_numbers)\n",
    "test['Ecology_3'] = test['Ecology_3'].replace(binary_to_numbers)\n",
    "test['Shops_2'] = test['Shops_2'].replace(binary_to_numbers)"
   ]
  },
  {
   "cell_type": "code",
   "execution_count": 45,
   "id": "30c74fc2",
   "metadata": {},
   "outputs": [
    {
     "data": {
      "text/html": [
       "<div>\n",
       "<style scoped>\n",
       "    .dataframe tbody tr th:only-of-type {\n",
       "        vertical-align: middle;\n",
       "    }\n",
       "\n",
       "    .dataframe tbody tr th {\n",
       "        vertical-align: top;\n",
       "    }\n",
       "\n",
       "    .dataframe thead th {\n",
       "        text-align: right;\n",
       "    }\n",
       "</style>\n",
       "<table border=\"1\" class=\"dataframe\">\n",
       "  <thead>\n",
       "    <tr style=\"text-align: right;\">\n",
       "      <th></th>\n",
       "      <th>Id</th>\n",
       "      <th>DistrictId</th>\n",
       "      <th>Rooms</th>\n",
       "      <th>Square</th>\n",
       "      <th>LifeSquare</th>\n",
       "      <th>KitchenSquare</th>\n",
       "      <th>Floor</th>\n",
       "      <th>HouseFloor</th>\n",
       "      <th>HouseYear</th>\n",
       "      <th>Ecology_1</th>\n",
       "      <th>Ecology_2</th>\n",
       "      <th>Ecology_3</th>\n",
       "      <th>Social_1</th>\n",
       "      <th>Social_2</th>\n",
       "      <th>Social_3</th>\n",
       "      <th>Healthcare_1</th>\n",
       "      <th>Helthcare_2</th>\n",
       "      <th>Shops_1</th>\n",
       "      <th>Shops_2</th>\n",
       "      <th>MedPriceByDistrict</th>\n",
       "    </tr>\n",
       "  </thead>\n",
       "  <tbody>\n",
       "    <tr>\n",
       "      <th>0</th>\n",
       "      <td>4567</td>\n",
       "      <td>44</td>\n",
       "      <td>1.0</td>\n",
       "      <td>47.901917</td>\n",
       "      <td>19.094183</td>\n",
       "      <td>50.0</td>\n",
       "      <td>5</td>\n",
       "      <td>9.0</td>\n",
       "      <td>1970</td>\n",
       "      <td>0.036122</td>\n",
       "      <td>1</td>\n",
       "      <td>1</td>\n",
       "      <td>24</td>\n",
       "      <td>4378</td>\n",
       "      <td>0</td>\n",
       "      <td>1036.0</td>\n",
       "      <td>1</td>\n",
       "      <td>1</td>\n",
       "      <td>1</td>\n",
       "      <td>171145.171875</td>\n",
       "    </tr>\n",
       "    <tr>\n",
       "      <th>1</th>\n",
       "      <td>5925</td>\n",
       "      <td>62</td>\n",
       "      <td>1.0</td>\n",
       "      <td>55.242077</td>\n",
       "      <td>42.568134</td>\n",
       "      <td>100.0</td>\n",
       "      <td>7</td>\n",
       "      <td>17.0</td>\n",
       "      <td>2017</td>\n",
       "      <td>0.072158</td>\n",
       "      <td>1</td>\n",
       "      <td>1</td>\n",
       "      <td>2</td>\n",
       "      <td>629</td>\n",
       "      <td>1</td>\n",
       "      <td>900.0</td>\n",
       "      <td>0</td>\n",
       "      <td>0</td>\n",
       "      <td>0</td>\n",
       "      <td>129107.218750</td>\n",
       "    </tr>\n",
       "    <tr>\n",
       "      <th>2</th>\n",
       "      <td>960</td>\n",
       "      <td>27</td>\n",
       "      <td>2.0</td>\n",
       "      <td>77.302780</td>\n",
       "      <td>32.925087</td>\n",
       "      <td>90.0</td>\n",
       "      <td>19</td>\n",
       "      <td>19.0</td>\n",
       "      <td>1977</td>\n",
       "      <td>0.211401</td>\n",
       "      <td>1</td>\n",
       "      <td>1</td>\n",
       "      <td>9</td>\n",
       "      <td>1892</td>\n",
       "      <td>0</td>\n",
       "      <td>900.0</td>\n",
       "      <td>0</td>\n",
       "      <td>1</td>\n",
       "      <td>1</td>\n",
       "      <td>165683.078125</td>\n",
       "    </tr>\n",
       "    <tr>\n",
       "      <th>3</th>\n",
       "      <td>3848</td>\n",
       "      <td>23</td>\n",
       "      <td>3.0</td>\n",
       "      <td>64.539841</td>\n",
       "      <td>33.893826</td>\n",
       "      <td>60.0</td>\n",
       "      <td>2</td>\n",
       "      <td>2.0</td>\n",
       "      <td>1965</td>\n",
       "      <td>0.014073</td>\n",
       "      <td>1</td>\n",
       "      <td>1</td>\n",
       "      <td>2</td>\n",
       "      <td>475</td>\n",
       "      <td>0</td>\n",
       "      <td>900.0</td>\n",
       "      <td>0</td>\n",
       "      <td>0</td>\n",
       "      <td>1</td>\n",
       "      <td>166687.734375</td>\n",
       "    </tr>\n",
       "    <tr>\n",
       "      <th>4</th>\n",
       "      <td>746</td>\n",
       "      <td>74</td>\n",
       "      <td>1.0</td>\n",
       "      <td>69.988167</td>\n",
       "      <td>32.925087</td>\n",
       "      <td>100.0</td>\n",
       "      <td>8</td>\n",
       "      <td>17.0</td>\n",
       "      <td>1977</td>\n",
       "      <td>0.309479</td>\n",
       "      <td>1</td>\n",
       "      <td>1</td>\n",
       "      <td>35</td>\n",
       "      <td>7715</td>\n",
       "      <td>4</td>\n",
       "      <td>990.0</td>\n",
       "      <td>0</td>\n",
       "      <td>6</td>\n",
       "      <td>1</td>\n",
       "      <td>165071.828125</td>\n",
       "    </tr>\n",
       "  </tbody>\n",
       "</table>\n",
       "</div>"
      ],
      "text/plain": [
       "     Id DistrictId  Rooms     Square  LifeSquare  KitchenSquare  Floor  \\\n",
       "0  4567         44    1.0  47.901917   19.094183           50.0      5   \n",
       "1  5925         62    1.0  55.242077   42.568134          100.0      7   \n",
       "2   960         27    2.0  77.302780   32.925087           90.0     19   \n",
       "3  3848         23    3.0  64.539841   33.893826           60.0      2   \n",
       "4   746         74    1.0  69.988167   32.925087          100.0      8   \n",
       "\n",
       "   HouseFloor  HouseYear  Ecology_1  Ecology_2  Ecology_3  Social_1  Social_2  \\\n",
       "0         9.0       1970   0.036122          1          1        24      4378   \n",
       "1        17.0       2017   0.072158          1          1         2       629   \n",
       "2        19.0       1977   0.211401          1          1         9      1892   \n",
       "3         2.0       1965   0.014073          1          1         2       475   \n",
       "4        17.0       1977   0.309479          1          1        35      7715   \n",
       "\n",
       "   Social_3  Healthcare_1  Helthcare_2  Shops_1  Shops_2  MedPriceByDistrict  \n",
       "0         0        1036.0            1        1        1       171145.171875  \n",
       "1         1         900.0            0        0        0       129107.218750  \n",
       "2         0         900.0            0        1        1       165683.078125  \n",
       "3         0         900.0            0        0        1       166687.734375  \n",
       "4         4         990.0            0        6        1       165071.828125  "
      ]
     },
     "execution_count": 45,
     "metadata": {},
     "output_type": "execute_result"
    }
   ],
   "source": [
    "test = test.merge(med_price_by_district, on=['DistrictId', 'Rooms'], how='left')\n",
    "test.head()"
   ]
  },
  {
   "cell_type": "markdown",
   "id": "795e4bb3",
   "metadata": {},
   "source": [
    "### Разбиение на train и test"
   ]
  },
  {
   "cell_type": "code",
   "execution_count": 46,
   "id": "0e73dee3",
   "metadata": {},
   "outputs": [],
   "source": [
    "X = train.drop(columns=target)\n",
    "Y = train[target]"
   ]
  },
  {
   "cell_type": "code",
   "execution_count": 47,
   "id": "65e37f1a",
   "metadata": {},
   "outputs": [],
   "source": [
    "X_train, X_valid, Y_train, Y_valid= train_test_split(X, Y, test_size=5000, random_state=42)"
   ]
  },
  {
   "cell_type": "code",
   "execution_count": 48,
   "id": "89014ef4",
   "metadata": {},
   "outputs": [],
   "source": [
    "DataPipeline = DataPipeline()\n",
    "DataPipeline.fit(X_train, Y_train)\n",
    "\n",
    "X_train = DataPipeline.transform(X_train)\n",
    "X_valid = DataPipeline.transform(X_valid)\n",
    "test = DataPipeline.transform(test)"
   ]
  },
  {
   "cell_type": "code",
   "execution_count": 49,
   "id": "69167079",
   "metadata": {},
   "outputs": [],
   "source": [
    "X_train = X_train[feature_names]\n",
    "X_valid = X_valid[feature_names]\n",
    "test = test[feature_names]"
   ]
  },
  {
   "cell_type": "markdown",
   "id": "00cfea03",
   "metadata": {},
   "source": [
    "**Обучение модели**"
   ]
  },
  {
   "cell_type": "code",
   "execution_count": 50,
   "id": "d26bef23",
   "metadata": {},
   "outputs": [
    {
     "data": {
      "text/plain": [
       "RandomForestRegressor(max_depth=20, min_samples_leaf=3, random_state=42)"
      ]
     },
     "execution_count": 50,
     "metadata": {},
     "output_type": "execute_result"
    }
   ],
   "source": [
    "rf_model = RandomForestRegressor(criterion='mse',\n",
    "                                 max_depth=20, \n",
    "                                 min_samples_leaf=3, \n",
    "                                 random_state=42,\n",
    "                                 n_estimators=100  \n",
    "                                 )\n",
    "\n",
    "rf_model.fit(X_train, Y_train)"
   ]
  },
  {
   "cell_type": "code",
   "execution_count": 51,
   "id": "c8869c40",
   "metadata": {},
   "outputs": [],
   "source": [
    "y_train_preds = rf_model.predict(X_train)\n",
    "y_valid_preds = rf_model.predict(X_valid)"
   ]
  },
  {
   "cell_type": "markdown",
   "id": "82cd9035",
   "metadata": {},
   "source": [
    "**Оценка модели**"
   ]
  },
  {
   "cell_type": "code",
   "execution_count": 52,
   "id": "72433dda",
   "metadata": {},
   "outputs": [
    {
     "data": {
      "text/plain": [
       "0.9012236215725531"
      ]
     },
     "execution_count": 52,
     "metadata": {},
     "output_type": "execute_result"
    }
   ],
   "source": [
    "r2(Y_train, y_train_preds)"
   ]
  },
  {
   "cell_type": "markdown",
   "id": "59a5b029",
   "metadata": {},
   "source": [
    "# Прогнозирование на тестовом датасете"
   ]
  },
  {
   "cell_type": "code",
   "execution_count": 53,
   "id": "5e760e02",
   "metadata": {},
   "outputs": [],
   "source": [
    "X_test = test"
   ]
  },
  {
   "cell_type": "code",
   "execution_count": 54,
   "id": "22d85a72",
   "metadata": {},
   "outputs": [],
   "source": [
    "y_test_preds = rf_model.predict(X_test)"
   ]
  },
  {
   "cell_type": "code",
   "execution_count": 55,
   "id": "ff74cfb7",
   "metadata": {},
   "outputs": [
    {
     "data": {
      "text/plain": [
       "array([161888.30925728, 118473.33833459, 142923.24082349, ...,\n",
       "       147438.4338656 , 195602.11628113, 266907.8822743 ])"
      ]
     },
     "execution_count": 55,
     "metadata": {},
     "output_type": "execute_result"
    }
   ],
   "source": [
    "y_test_preds"
   ]
  },
  {
   "cell_type": "markdown",
   "id": "ac0b8a91",
   "metadata": {},
   "source": [
    " # Сохранение модели"
   ]
  },
  {
   "cell_type": "code",
   "execution_count": 56,
   "id": "23eafcb9",
   "metadata": {},
   "outputs": [],
   "source": [
    "result=pd.DataFrame({'Id':test_idx, 'Price':y_test_preds})\n"
   ]
  },
  {
   "cell_type": "code",
   "execution_count": 57,
   "id": "367dfa4f",
   "metadata": {},
   "outputs": [],
   "source": [
    "result.to_csv(result_dataset, index=False)"
   ]
  }
 ],
 "metadata": {
  "kernelspec": {
   "display_name": "Python 3 (ipykernel)",
   "language": "python",
   "name": "python3"
  },
  "language_info": {
   "codemirror_mode": {
    "name": "ipython",
    "version": 3
   },
   "file_extension": ".py",
   "mimetype": "text/x-python",
   "name": "python",
   "nbconvert_exporter": "python",
   "pygments_lexer": "ipython3",
   "version": "3.9.7"
  }
 },
 "nbformat": 4,
 "nbformat_minor": 5
}
